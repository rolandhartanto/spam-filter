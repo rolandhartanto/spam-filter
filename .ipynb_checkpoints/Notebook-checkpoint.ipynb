{
 "cells": [
  {
   "cell_type": "markdown",
   "metadata": {},
   "source": [
    "# IF4072 Pemrosesan Teks dan Suara Bahasa Alami"
   ]
  },
  {
   "cell_type": "markdown",
   "metadata": {},
   "source": [
    "## Anggota Kelompok\n",
    "1. 13515021 Dewita Sonya Tarabunga\n",
    "2. 13515057 Erick Wijaya\n",
    "3. 13515107 Roland Hartanto"
   ]
  },
  {
   "cell_type": "markdown",
   "metadata": {},
   "source": [
    "## Import"
   ]
  },
  {
   "cell_type": "code",
   "execution_count": 209,
   "metadata": {},
   "outputs": [],
   "source": [
    "import os, stat, string, re\n",
    "import pandas as pd\n",
    "import numpy as np\n",
    "import nltk\n",
    "import math\n",
    "\n",
    "from collections import Counter\n",
    "from nltk import word_tokenize, NaiveBayesClassifier, DecisionTreeClassifier, classify\n",
    "from nltk.stem import PorterStemmer, WordNetLemmatizer\n",
    "from nltk.corpus import wordnet, stopwords\n",
    "from sklearn.svm import LinearSVC\n",
    "from sklearn.naive_bayes import GaussianNB\n",
    "from sklearn.tree import DecisionTreeClassifier\n",
    "from sklearn.metrics import confusion_matrix, accuracy_score"
   ]
  },
  {
   "cell_type": "markdown",
   "metadata": {},
   "source": [
    "### Load Data"
   ]
  },
  {
   "cell_type": "code",
   "execution_count": 193,
   "metadata": {
    "scrolled": false
   },
   "outputs": [],
   "source": [
    "def load_data(src, size):\n",
    "    emails = ['' for _ in range(size)]\n",
    "    if not os.path.exists(src):\n",
    "        os.makedirs(src)\n",
    "    files = os.listdir(src)\n",
    "    for file in files:\n",
    "        idx = file.replace('TRAIN_','').replace('.eml','').replace('TEST_', '')\n",
    "        path = os.path.join(src, file)\n",
    "        info = os.stat(path)\n",
    "        if not stat.S_ISDIR(info.st_mode):\n",
    "            fp = open(path, encoding='utf-8', errors='ignore')\n",
    "            body = fp.read()\n",
    "            fp.close()\n",
    "            \n",
    "            emails[int(idx) - 1] = body\n",
    "    return emails\n",
    "    \n",
    "\n",
    "    \n",
    "labels = pd.read_csv('spam-mail.tr.label')\n",
    "labels = labels['Prediction'].tolist()\n",
    "emails = load_data('TR-extracted', 2500)\n",
    "test = load_data('TT-extracted', 1827)"
   ]
  },
  {
   "cell_type": "markdown",
   "metadata": {},
   "source": [
    "## Preprocessing"
   ]
  },
  {
   "cell_type": "markdown",
   "metadata": {},
   "source": [
    "### Remove Punctuations"
   ]
  },
  {
   "cell_type": "code",
   "execution_count": 194,
   "metadata": {},
   "outputs": [],
   "source": [
    "trans = str.maketrans(string.punctuation, ' ' * len(string.punctuation))\n",
    "emails = [email.translate(trans) for email in emails]\n",
    "test = [email.translate(trans) for email in test]"
   ]
  },
  {
   "cell_type": "markdown",
   "metadata": {},
   "source": [
    "### Tokenize"
   ]
  },
  {
   "cell_type": "code",
   "execution_count": 195,
   "metadata": {
    "scrolled": false
   },
   "outputs": [],
   "source": [
    "tokens = [word_tokenize(email.lower()) for email in emails]\n",
    "test = [word_tokenize(email.lower()) for email in test]"
   ]
  },
  {
   "cell_type": "markdown",
   "metadata": {},
   "source": [
    "### Lemmatization"
   ]
  },
  {
   "cell_type": "code",
   "execution_count": 196,
   "metadata": {},
   "outputs": [],
   "source": [
    "tagged = [nltk.pos_tag(token) for token in tokens]\n",
    "test_tagged = [nltk.pos_tag(token) for token in test]"
   ]
  },
  {
   "cell_type": "code",
   "execution_count": 197,
   "metadata": {
    "scrolled": true
   },
   "outputs": [],
   "source": [
    "def get_pos(tag):\n",
    "    if tag.startswith('J'):\n",
    "        return wordnet.ADJ\n",
    "    elif tag.startswith('V'):\n",
    "        return wordnet.VERB\n",
    "    elif tag.startswith('N'):\n",
    "        return wordnet.NOUN\n",
    "    elif tag.startswith('R'):\n",
    "        return wordnet.ADV\n",
    "    else:\n",
    "        return wordnet.NOUN\n",
    "\n",
    "lemmatizer = WordNetLemmatizer()\n",
    "tokens = [[lemmatizer.lemmatize(word[0], pos=get_pos(word[1])) for word in token] for token in tagged]\n",
    "test = [[lemmatizer.lemmatize(word[0], pos=get_pos(word[1])) for word in token] for token in test_tagged]"
   ]
  },
  {
   "cell_type": "markdown",
   "metadata": {},
   "source": [
    "## Feature Selection"
   ]
  },
  {
   "cell_type": "markdown",
   "metadata": {},
   "source": [
    "### Stop Words Elimination"
   ]
  },
  {
   "cell_type": "code",
   "execution_count": 198,
   "metadata": {},
   "outputs": [],
   "source": [
    "stop_words = set(stopwords.words('english'))\n",
    "tokens = [[word for word in token if not word in stop_words] for token in tokens]\n",
    "test = [[word for word in token if not word in stop_words] for token in test]"
   ]
  },
  {
   "cell_type": "markdown",
   "metadata": {},
   "source": [
    "### TF IDF"
   ]
  },
  {
   "cell_type": "code",
   "execution_count": 199,
   "metadata": {},
   "outputs": [],
   "source": [
    "# from nltk.text import TextCollection\n",
    "\n",
    "# text = TextCollection(['lili', 'lala'])\n",
    "# TextCollection.tf('lala', text)\n",
    "\n",
    "# def tf(word, doc):\n",
    "#     return doc.count(word) / len(doc)\n",
    "\n",
    "# def count_containing(word, docs):\n",
    "#     return sum(1 for doc in docs if word in doc)\n",
    "\n",
    "# def idf(word, docs):\n",
    "#     return math.log(2500, (1 + count_containing(word, docs)))\n",
    "\n",
    "# def tf_idf(word, doc, docs):\n",
    "#     return tf(word, doc) * idf(word, docs)\n",
    "\n",
    "# THRESHOLD = 0.001\n",
    "# tokens = [[word for word in token if tf_idf(word, token, tokens) > THRESHOLD] for token in tokens]\n",
    "# tokens[1]"
   ]
  },
  {
   "cell_type": "markdown",
   "metadata": {},
   "source": [
    "### Convert to Trainable Data"
   ]
  },
  {
   "cell_type": "code",
   "execution_count": 200,
   "metadata": {},
   "outputs": [],
   "source": [
    "def get_features(text):\n",
    "    return {word: True for word in text}\n",
    "\n",
    "train_data = []\n",
    "idx = 0\n",
    "for email in tokens:\n",
    "    train_data.append((get_features(email), labels[idx]))\n",
    "    idx += 1\n",
    "\n",
    "test_data = []\n",
    "idx = 0\n",
    "for email in test:\n",
    "    test_data.append(get_features(email))\n",
    "    idx += 1"
   ]
  },
  {
   "cell_type": "markdown",
   "metadata": {},
   "source": [
    "## Training Model"
   ]
  },
  {
   "cell_type": "markdown",
   "metadata": {},
   "source": [
    "### Naive Bayes"
   ]
  },
  {
   "cell_type": "code",
   "execution_count": 201,
   "metadata": {},
   "outputs": [],
   "source": [
    "classifier = NaiveBayesClassifier.train(train_data)"
   ]
  },
  {
   "cell_type": "markdown",
   "metadata": {},
   "source": [
    "### Decision Tree"
   ]
  },
  {
   "cell_type": "code",
   "execution_count": null,
   "metadata": {},
   "outputs": [],
   "source": [
    "classifier = DecisionTreeClassifier.train(train_data)"
   ]
  },
  {
   "cell_type": "markdown",
   "metadata": {},
   "source": [
    "## Classification"
   ]
  },
  {
   "cell_type": "code",
   "execution_count": 202,
   "metadata": {},
   "outputs": [],
   "source": [
    "fp = open('answer.csv', 'w')\n",
    "fp.write('Id,Prediction\\n')\n",
    "\n",
    "idx = 1\n",
    "for data in test_data:\n",
    "    ans = classifier.classify(data)\n",
    "    fp.write(str(idx)+','+str(ans)+'\\n')\n",
    "    idx += 1\n",
    "    \n",
    "fp.close()"
   ]
  },
  {
   "cell_type": "code",
   "execution_count": 203,
   "metadata": {},
   "outputs": [
    {
     "data": {
      "text/plain": [
       "0.9632"
      ]
     },
     "execution_count": 203,
     "metadata": {},
     "output_type": "execute_result"
    }
   ],
   "source": [
    "classify.accuracy(classifier, train_data)"
   ]
  }
 ],
 "metadata": {
  "kernelspec": {
   "display_name": "Python 3",
   "language": "python",
   "name": "python3"
  },
  "language_info": {
   "codemirror_mode": {
    "name": "ipython",
    "version": 3
   },
   "file_extension": ".py",
   "mimetype": "text/x-python",
   "name": "python",
   "nbconvert_exporter": "python",
   "pygments_lexer": "ipython3",
   "version": "3.6.5"
  }
 },
 "nbformat": 4,
 "nbformat_minor": 2
}
